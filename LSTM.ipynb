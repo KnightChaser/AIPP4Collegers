{
 "cells": [
  {
   "cell_type": "markdown",
   "metadata": {},
   "source": [
    "# Binary classification of spam/ham mails with using **LSTM**\n",
    "## LSTM (Long Short Term Memory)\n",
    "\n",
    "Long Short-Term Memory networks (LSTMs) are a specialized kind of recurrent neural network (RNN) capable of learning long-term dependencies. Below are some of the fundamental concepts underlying LSTMs:\n",
    "\n",
    "### 1. **Memory Cells**\n",
    "- The core component of an LSTM unit is the memory cell, designed to maintain information in memory for long periods. The cell's ability to retain or discard information selectively makes LSTMs suitable for tasks that require remembering or forgetting data over long sequences.\n",
    "\n",
    "### 2. **Gates**\n",
    "LSTMs utilize three distinct types of gates to control the flow of information:\n",
    "   - **Input gate**: Controls how much new information is added to the cell state.\n",
    "   - **Forget gate**: Determines the amount of information thrown away from the current cell state.\n",
    "   - **Output gate**: Decides what information to output based on current input and the memory of the cell.\n",
    "\n",
    "### 3. **Statefulness**\n",
    "- LSTMs maintain two states throughout time steps:\n",
    "   - **Cell state**: Acts as the long-term memory, which carries relevant information throughout the processing of the sequence.\n",
    "   - **Hidden state**: Represents the short-term memory that provides the current output of the LSTM unit at each step.\n",
    "\n",
    "### 4. **Backpropagation Through Time (BPTT)**\n",
    "- LSTMs use a specialized form of backpropagation called Backpropagation Through Time, which is essential for learning temporal dependencies. BPTT involves unfolding the LSTM over time steps and applying traditional backpropagation.\n",
    "\n",
    "### 5. **Advantages Over Standard RNNs**\n",
    "- **Handling Long-Term Dependencies**: Unlike standard RNNs that fail to capture long-term dependencies due to vanishing gradients, LSTMs are designed to address this through their architecture.\n",
    "- **Flexibility**: They can learn which data in a sequence is important to remember or ignore, thus enhancing their efficiency and effectiveness in sequence modeling.\n",
    "\n",
    "### 6. **Challenges and Limitations**\n",
    "- **Computational Complexity**: Due to their sophisticated architecture, LSTMs are more computationally intensive than standard RNNs, leading to longer training times.\n",
    "- **Parameter Tuning**: LSTMs involve numerous hyperparameters that need careful tuning to perform optimally, which can be a complex and time-consuming process.\n",
    "\n",
    "These principles are why LSTMs excel in tasks like speech recognition, text generation, and spam detection, where understanding complex relationships and dependencies over time is crucial.\n"
   ]
  },
  {
   "cell_type": "code",
   "execution_count": 1,
   "metadata": {},
   "outputs": [
    {
     "name": "stderr",
     "output_type": "stream",
     "text": [
      "2024-04-13 18:01:35.546376: I tensorflow/core/util/port.cc:110] oneDNN custom operations are on. You may see slightly different numerical results due to floating-point round-off errors from different computation orders. To turn them off, set the environment variable `TF_ENABLE_ONEDNN_OPTS=0`.\n",
      "2024-04-13 18:01:35.578295: I tensorflow/core/platform/cpu_feature_guard.cc:182] This TensorFlow binary is optimized to use available CPU instructions in performance-critical operations.\n",
      "To enable the following instructions: AVX2 AVX_VNNI FMA, in other operations, rebuild TensorFlow with the appropriate compiler flags.\n",
      "2024-04-13 18:01:36.122781: W tensorflow/compiler/tf2tensorrt/utils/py_utils.cc:38] TF-TRT Warning: Could not find TensorRT\n"
     ]
    },
    {
     "name": "stdout",
     "output_type": "stream",
     "text": [
      "2.12.0\n",
      "WARNING:tensorflow:From /tmp/ipykernel_91258/1448305103.py:6: is_gpu_available (from tensorflow.python.framework.test_util) is deprecated and will be removed in a future version.\n",
      "Instructions for updating:\n",
      "Use `tf.config.list_physical_devices('GPU')` instead.\n"
     ]
    },
    {
     "name": "stderr",
     "output_type": "stream",
     "text": [
      "2024-04-13 18:01:36.887460: I tensorflow/compiler/xla/stream_executor/cuda/cuda_gpu_executor.cc:982] could not open file to read NUMA node: /sys/bus/pci/devices/0000:01:00.0/numa_node\n",
      "Your kernel may have been built without NUMA support.\n",
      "2024-04-13 18:01:36.903817: I tensorflow/compiler/xla/stream_executor/cuda/cuda_gpu_executor.cc:982] could not open file to read NUMA node: /sys/bus/pci/devices/0000:01:00.0/numa_node\n",
      "Your kernel may have been built without NUMA support.\n",
      "2024-04-13 18:01:36.903986: I tensorflow/compiler/xla/stream_executor/cuda/cuda_gpu_executor.cc:982] could not open file to read NUMA node: /sys/bus/pci/devices/0000:01:00.0/numa_node\n",
      "Your kernel may have been built without NUMA support.\n",
      "2024-04-13 18:01:37.037745: I tensorflow/compiler/xla/stream_executor/cuda/cuda_gpu_executor.cc:982] could not open file to read NUMA node: /sys/bus/pci/devices/0000:01:00.0/numa_node\n",
      "Your kernel may have been built without NUMA support.\n",
      "2024-04-13 18:01:37.037951: I tensorflow/compiler/xla/stream_executor/cuda/cuda_gpu_executor.cc:982] could not open file to read NUMA node: /sys/bus/pci/devices/0000:01:00.0/numa_node\n",
      "Your kernel may have been built without NUMA support.\n",
      "2024-04-13 18:01:37.037960: I tensorflow/core/common_runtime/gpu/gpu_device.cc:1722] Could not identify NUMA node of platform GPU id 0, defaulting to 0.  Your kernel may not have been built with NUMA support.\n",
      "2024-04-13 18:01:37.038080: I tensorflow/compiler/xla/stream_executor/cuda/cuda_gpu_executor.cc:982] could not open file to read NUMA node: /sys/bus/pci/devices/0000:01:00.0/numa_node\n",
      "Your kernel may have been built without NUMA support.\n",
      "2024-04-13 18:01:37.038108: I tensorflow/core/common_runtime/gpu/gpu_device.cc:1635] Created device /device:GPU:0 with 5558 MB memory:  -> device: 0, name: NVIDIA GeForce RTX 3080 Laptop GPU, pci bus id: 0000:01:00.0, compute capability: 8.6\n"
     ]
    },
    {
     "data": {
      "text/plain": [
       "True"
      ]
     },
     "execution_count": 1,
     "metadata": {},
     "output_type": "execute_result"
    }
   ],
   "source": [
    "import tensorflow as tf\n",
    "\n",
    "print(tf.__version__)\n",
    "# 1.14.0\n",
    "\n",
    "tf.test.is_gpu_available(\n",
    "    cuda_only=False,\n",
    "    min_cuda_compute_capability=None\n",
    ")"
   ]
  },
  {
   "cell_type": "code",
   "execution_count": 2,
   "metadata": {},
   "outputs": [],
   "source": [
    "import numpy as np\n",
    "import pandas as pd\n",
    "import matplotlib.pyplot as plt\n",
    "from sklearn.model_selection import train_test_split\n",
    "from tensorflow.keras.preprocessing.text import Tokenizer\n",
    "from tensorflow.keras.preprocessing.sequence import pad_sequences"
   ]
  },
  {
   "cell_type": "code",
   "execution_count": 3,
   "metadata": {},
   "outputs": [
    {
     "name": "stdout",
     "output_type": "stream",
     "text": [
      "The number of rows in the dataset is 37685\n",
      "The number of columns in the dataset is 2\n",
      "  label                                               text\n",
      "0  spam  save your money buy getting this thing here yo...\n",
      "1  spam  save your money buy getting this thing here yo...\n",
      "2  spam  wall street phenomenon reaps rewards small cap...\n",
      "3  spam  only our software is guaranteed 100 legal name...\n",
      "4  spam  rely on us for your online prescription orderi...\n"
     ]
    }
   ],
   "source": [
    "# Open the prepared dataset, and split it into training and testing sets\n",
    "data:pd.DataFrame = pd.read_csv(\"./dataset/spameyes_dataset.csv\", lineterminator='\\n')\n",
    "print(f\"The number of rows in the dataset is {data.shape[0]}\")\n",
    "print(f\"The number of columns in the dataset is {data.shape[1]}\")\n",
    "print(data.head())"
   ]
  },
  {
   "cell_type": "code",
   "execution_count": 4,
   "metadata": {},
   "outputs": [
    {
     "name": "stdout",
     "output_type": "stream",
     "text": [
      "       label                                               text\n",
      "0          1  save your money buy getting this thing here yo...\n",
      "1          1  save your money buy getting this thing here yo...\n",
      "2          1  wall street phenomenon reaps rewards small cap...\n",
      "3          1  only our software is guaranteed 100 legal name...\n",
      "4          1  rely on us for your online prescription orderi...\n",
      "...      ...                                                ...\n",
      "37680      1  win $ 300usd and a cruise ! raquel 's casino ,...\n",
      "37681      1  you have been asked to join kiddin the list ow...\n",
      "37682      0  anglicization of composers ' names judging fro...\n",
      "37683      0  re : 6 . 797 , comparative method : n - ary co...\n",
      "37684      0  re : american - english in australia hello ! i...\n",
      "\n",
      "[37685 rows x 2 columns]\n"
     ]
    },
    {
     "name": "stderr",
     "output_type": "stream",
     "text": [
      "/tmp/ipykernel_91258/4287341439.py:2: FutureWarning: Downcasting behavior in `replace` is deprecated and will be removed in a future version. To retain the old behavior, explicitly call `result.infer_objects(copy=False)`. To opt-in to the future behavior, set `pd.set_option('future.no_silent_downcasting', True)`\n",
      "  data[\"label\"] = data[\"label\"].replace([\"spam\", \"ham\"], [1, 0])\n"
     ]
    }
   ],
   "source": [
    "# Replace the spam and ham labels with 1 and 0 respectively\n",
    "data[\"label\"] = data[\"label\"].replace([\"spam\", \"ham\"], [1, 0])\n",
    "print(data)"
   ]
  },
  {
   "cell_type": "code",
   "execution_count": 5,
   "metadata": {},
   "outputs": [
    {
     "name": "stdout",
     "output_type": "stream",
     "text": [
      "<class 'pandas.core.frame.DataFrame'>\n",
      "RangeIndex: 37685 entries, 0 to 37684\n",
      "Data columns (total 2 columns):\n",
      " #   Column  Non-Null Count  Dtype \n",
      "---  ------  --------------  ----- \n",
      " 0   label   37685 non-null  int64 \n",
      " 1   text    37685 non-null  object\n",
      "dtypes: int64(1), object(1)\n",
      "memory usage: 589.0+ KB\n",
      "None\n",
      "If there is any missing value in the dataset: False\n"
     ]
    }
   ],
   "source": [
    "print(data.info())\n",
    "print(f\"If there is any missing value in the dataset: {data.isnull().values.any()}\")"
   ]
  },
  {
   "cell_type": "code",
   "execution_count": 6,
   "metadata": {},
   "outputs": [
    {
     "data": {
      "text/plain": [
       "<Axes: xlabel='label'>"
      ]
     },
     "execution_count": 6,
     "metadata": {},
     "output_type": "execute_result"
    },
    {
     "data": {
      "image/png": "[encoded data removed]",
      "text/plain": [
       "<Figure size 640x480 with 1 Axes>"
      ]
     },
     "metadata": {},
     "output_type": "display_data"
    }
   ],
   "source": [
    "# Plot the distribution of the labels\n",
    "data[\"label\"].value_counts().plot(kind = \"bar\")"
   ]
  },
  {
   "cell_type": "code",
   "execution_count": 7,
   "metadata": {},
   "outputs": [
    {
     "name": "stdout",
     "output_type": "stream",
     "text": [
      "The number of rows in the training set is 30148\n",
      "The number of rows in the testing set is 7537\n"
     ]
    }
   ],
   "source": [
    "# Split the dataset into training and testing sets\n",
    "X:pd.DataFrame = data[\"text\"]\n",
    "y:pd.DataFrame = data[\"label\"]\n",
    "X_train, X_test, y_train, y_test = train_test_split(X, y, test_size = 0.2, random_state = 0xCAFECAFE)\n",
    "\n",
    "# X_train is for training the model, X_test is for testing the model\n",
    "# y_train is the actual label for the training set, y_test is the actual label for the testing set\n",
    "\n",
    "# Measure how many columns in the training set and testing set\n",
    "print(f\"The number of rows in the training set is {X_train.shape[0]}\")\n",
    "print(f\"The number of rows in the testing set is {X_test.shape[0]}\")"
   ]
  },
  {
   "cell_type": "code",
   "execution_count": 8,
   "metadata": {},
   "outputs": [
    {
     "name": "stdout",
     "output_type": "stream",
     "text": [
      "[[837, 11, 85, 3717, 16, 2051, 11, 1041, 2, 104, 397, 26, 183, 32, 1929, 258, 7961, 9, 65, 13, 841, 777, 669, 29, 153, 56, 102, 11, 102, 1049, 133, 2, 1979, 907, 1141, 39539], [261, 200, 34, 349, 380, 1224, 593, 399, 1224, 674, 603, 1714, 1623, 3534, 571, 750, 559, 1190, 253, 106, 1353, 1662, 376, 1225, 609, 450, 827, 97781, 1143, 483, 566, 432, 179, 473, 1300, 10, 804, 13, 5, 1106, 318, 666, 318, 707, 566, 432, 179, 666, 318, 707, 566, 432, 179, 666, 318, 707, 566, 432, 179, 483, 566, 432, 179, 473, 1300, 10, 804, 13, 5, 1106, 318, 666, 318, 707, 566, 432, 179, 666, 318, 707, 566, 432, 179, 666, 318, 707, 566, 432, 179, 483, 566, 432, 179, 473, 1300, 10, 804, 13, 5, 1106, 318, 666, 318, 707, 566, 432, 179, 666, 318, 707, 566, 432, 179, 483, 566, 432, 179, 473, 1300, 10, 804, 13, 5, 1106, 318, 483, 566, 432, 179, 473, 1300, 10, 804, 13, 5, 1106, 318, 483, 566, 432, 179, 473, 1300, 10, 804, 13, 5, 1106, 318, 666, 318, 707, 566, 432, 179, 666, 318, 707, 566, 432, 179, 666, 318, 707, 566, 432, 179, 666, 318, 707, 566, 432, 179, 666, 318, 707, 566, 432, 179, 666, 318, 707, 566, 432, 179, 666, 318, 707, 566, 432, 179, 483, 566, 432, 179, 473, 1300, 10, 804, 13, 5, 1106, 318], [118, 2365, 230, 131, 306, 1768, 5744, 11, 796, 145, 306, 13, 841, 254, 1330, 42, 7016, 54, 66, 17, 23, 5744, 45415, 568, 548, 198, 154, 349, 275, 2, 254, 284, 708, 314, 135, 135, 363, 126, 2365, 230, 131, 306, 1768, 545, 254, 11, 24, 5, 924, 726, 8, 7, 1, 2804, 2876, 134, 2, 521, 5, 1392, 3, 1768, 23, 1, 306, 355, 2365, 230, 131, 306, 13, 1, 180, 11, 1101, 133, 12, 68, 15, 5, 67592, 6650, 9, 80, 706, 29, 306, 71, 137, 145, 2, 61, 3064, 8, 10, 20, 9, 17, 218, 982, 2347, 167, 5744], [203, 57, 98, 206, 9, 6, 10, 3535, 203, 57, 98, 206, 9, 6, 10, 3535, 203, 57, 98, 206, 9, 6, 10, 3535, 203, 57, 98, 206, 9, 6, 10, 3535, 203, 57, 98, 206, 9, 6, 10, 3535, 203, 57, 98, 206, 9, 6, 10, 3535, 203, 57, 98, 206, 9, 6, 10, 3535, 203, 57, 98, 206, 9, 6, 10, 3535, 203, 57, 98, 206, 9, 6, 10, 3535, 203, 57, 98, 206, 9, 6, 10, 3535, 203, 57, 98, 206, 9, 6, 10, 3535, 203, 57, 98, 206, 9, 6, 10, 3535, 203, 57, 98, 206, 9, 6, 10, 3535, 203, 57, 98, 206, 9, 6, 10, 3535, 203, 57, 98, 206, 9, 6, 10, 3535, 203, 57, 98, 206, 9, 6, 10, 3535, 203, 57, 98, 206, 9, 6, 10, 3535, 203, 57, 98, 206, 9, 6, 10, 3535, 203, 57, 98, 206, 9, 6, 10, 3535, 203, 57, 98, 206, 9, 6, 10, 3535, 203, 57, 98, 206, 9, 6, 10, 3535, 203, 57, 98, 206, 9, 6, 10, 3535, 203, 57, 98, 206, 9, 6, 10, 3535, 203, 57, 98, 206, 9, 6, 10, 3535, 203, 57, 98, 206, 9, 6, 10, 3535, 203, 57, 98, 206, 9, 6, 10, 3535, 203, 57, 98, 206, 9, 6, 10, 3535, 203, 57, 98, 206, 9, 6, 10, 3535, 203, 57, 98, 206, 9, 6, 10, 3535, 203, 57, 98, 206, 9, 6, 10, 3535, 203, 57, 98, 206, 9, 6, 10, 3535, 203, 57, 98, 206, 9, 6, 10, 3535, 203, 57, 98, 206, 9, 6, 10, 3535, 203, 57, 98, 206, 9, 6, 10, 3535, 203, 57, 98, 206, 9, 6, 10, 3535, 203, 57, 98, 206, 9, 6, 10, 3535, 203, 57, 98, 206, 9, 6, 10, 3535, 203, 57, 98, 206, 9, 6, 10, 3535, 203, 57, 98, 206, 9, 6, 10, 3535, 203, 57, 98, 206, 9, 6, 10, 3535, 203, 57, 98, 206, 9, 6, 10, 3535, 203, 57, 98, 206, 9, 6, 10, 3535, 203, 57, 98, 206, 9, 6, 10, 3535, 203, 57, 98, 206, 9, 6, 10, 3535, 203, 57, 98, 206, 9, 6, 10, 3535, 203, 57, 98, 206, 9, 6, 10, 3535, 203, 57, 98, 206, 9, 6, 10, 3535, 203, 57, 98, 206, 9, 6, 10, 3535, 203, 57, 98, 206, 9, 6, 10, 3535, 203, 57, 98, 206, 9, 6, 10, 3535, 203, 57, 98, 206, 9, 6, 10, 3535, 203, 57, 98, 206, 9, 6, 10, 3535, 203, 57, 98, 206, 9, 6, 10, 3535, 203, 57, 98, 206, 9, 6, 10, 3535, 203, 57, 98, 206, 9, 6, 10, 3535, 203, 57, 98, 206, 9, 6, 10, 3535, 203, 57, 98, 206, 9, 6, 10, 3535, 203, 57, 98, 206, 9, 6, 10, 3535, 203, 57, 98, 206, 9, 6, 10, 3535, 203, 57, 98, 206, 9, 6, 10, 3535, 203, 57, 98, 206, 9, 6, 10, 3535, 203, 57, 98, 206, 9, 6, 10, 3535, 203, 57, 98, 206, 9, 6, 10, 3535, 203, 57, 98, 206, 9, 6, 10, 3535, 203, 57, 98, 206, 9, 6, 10, 3535, 203, 57, 98, 206, 9, 6, 10, 3535, 203, 57, 98, 206, 9, 6, 10, 3535, 203, 57, 98, 206, 9, 6, 10, 3535, 203, 57, 98, 206, 9, 6, 10, 3535, 203, 57, 98, 206, 9, 6, 10, 3535, 203, 57, 98, 206, 9, 6, 10, 3535, 203, 57, 98, 206, 9, 6, 10, 3535, 203, 57, 98, 206, 9, 6, 10, 3535, 203, 57, 98, 206, 9, 6, 10, 3535, 203, 57, 98, 206, 9, 6, 10, 3535, 203, 57, 98, 206, 9, 6, 10, 3535, 203, 57, 98, 206, 9, 6, 10, 3535, 203, 57, 98, 206, 9, 6, 10, 3535, 203, 57, 98, 206, 9, 6, 10, 3535, 203, 57, 98, 206, 9, 6, 10, 3535, 203, 57, 98, 206, 9, 6, 10, 3535, 203, 57, 98, 206, 9, 6, 10, 3535, 203, 57, 98, 206, 9, 6, 10, 3535, 203, 57, 98, 206, 9, 6, 10, 3535, 203, 57, 98, 206, 9, 6, 10, 3535, 203, 57, 98, 206, 9, 6, 10, 3535, 203, 57, 98, 206, 9, 6, 10, 3535, 203, 57, 98, 206, 9, 6, 10, 3535, 203, 57, 98, 206, 9, 6, 10, 3535, 203, 57, 98, 206, 9, 6, 10, 3535, 203, 57, 98, 206, 9, 6, 10, 3535, 203, 57, 98, 206, 9, 6, 10, 3535, 203, 57, 98, 206, 9, 6, 10, 3535, 203, 57, 98, 206, 9, 6, 10, 3535, 203, 57, 98, 206, 9, 6, 10, 3535, 203, 57, 98, 206, 9, 6, 10, 3535, 203, 57, 98, 206, 9, 6, 10, 3535, 203, 57, 98, 206, 9, 6, 10, 3535, 203, 57, 98, 206, 9, 6, 10, 3535, 203, 57, 98, 206, 9, 6, 10, 3535, 203, 57, 98, 206, 9, 6, 10, 3535, 203, 57, 98, 206, 9, 6, 10, 3535, 203, 57, 98, 206, 9, 6, 10, 3535, 203, 57, 98, 206, 9, 6, 10, 3535, 203, 57, 98, 206, 9, 6, 10, 3535, 203, 57, 98, 206, 9, 6, 10, 3535, 203, 57, 98, 206, 9, 6, 10, 3535, 203, 57, 98, 206, 9, 6, 10, 3535, 203, 57, 98, 206, 9, 6, 10, 3535, 203, 57, 98, 206, 9, 6, 10, 3535, 203, 57, 98, 206, 9, 6, 10, 3535, 203, 57, 98, 206, 9, 6, 10, 3535, 203, 57, 98, 206, 9, 6, 10, 3535, 203, 57, 98, 206, 9, 6, 10, 3535, 19103, 239, 160, 106, 558, 16191, 21265, 2171, 54443], [1, 920, 1480, 441, 5340, 15651, 31, 5, 149, 106, 24196, 14688, 97782, 4667, 1896, 1902, 2822, 1031, 45416, 45417, 1561, 493, 45418, 568, 374, 915, 401, 1116, 1155, 1276, 141, 1009, 920, 2408, 7, 24, 81, 1005, 21, 52, 3, 1233, 1570, 3, 1, 913, 5340, 15651, 4667, 1896, 219, 2794, 2358, 8, 777, 401, 956, 25, 15, 5, 4056, 12155, 3, 1, 2409, 920, 3, 8536, 4236, 399, 744, 1222, 4, 3304, 52, 908, 177, 1222, 4, 2013, 3397, 54444, 2563, 74, 14, 40, 62, 112, 51, 388, 2, 1, 1116, 142, 59, 168, 366, 55, 493, 579, 1414, 2206, 13465, 10, 858, 9, 5610, 4, 852, 30, 34728, 262, 3, 1, 823, 2805, 26, 6, 1, 913, 5340, 15651, 1896, 9, 30, 10, 158, 39540, 32, 219, 12776, 15651, 3427, 1465, 4, 1381, 2, 7502, 1, 7962, 3, 1, 513, 1208, 142, 3, 766, 6, 32, 898, 523, 16, 723, 10523, 23, 1613, 3427, 4, 2734, 5703, 11915, 2, 35, 1570, 9, 966, 4, 1954, 6, 5, 1403, 64, 185, 5121, 6651, 269, 77, 766, 23, 38, 1412, 318, 3, 78, 431, 77, 1114, 4, 54445, 30, 87, 2723, 11386, 23, 1267, 1, 199, 26, 2119, 38, 2613, 79, 23, 63, 7, 24, 5485, 21, 52, 3, 1, 1624, 1570, 3, 1, 2409, 1414, 920, 2, 404, 14, 4610, 4, 920, 771, 7, 19, 2, 61, 6, 152, 16, 405, 26121, 16817, 920, 976, 10694, 40, 62, 97783, 4611, 22, 624, 1281, 2473, 54446, 7, 19, 2031, 2, 417, 14, 1116, 7963, 1055, 10524, 14, 606, 9, 2202, 4, 14, 101, 3261, 2, 7, 6, 1794, 2856, 7, 2570, 10, 9, 6, 246, 16, 32, 248, 3095, 2, 1056, 1238, 976, 4, 54447, 3, 1, 858, 723, 21, 17, 44, 2564, 6, 1, 505, 742, 35, 335, 1144, 4, 3225, 2, 14, 1009, 920, 606, 10694, 4, 587, 2, 295, 14, 715, 4, 1561, 512, 1276, 435, 359, 23, 5340, 15651, 350, 7, 8, 241, 240, 3, 32, 1702, 158, 418, 45, 28, 348, 2, 10, 62, 112, 152, 14, 606, 10694, 983, 14689, 39541, 22648, 255, 219, 2555]]\n"
     ]
    }
   ],
   "source": [
    "# With using the Keras Tokenizer, we can convert the text data into sequences\n",
    "# These processes are called tokenization and integer encoding\n",
    "tokenizer:Tokenizer = Tokenizer()\n",
    "tokenizer.fit_on_texts(X_train)\n",
    "X_train_encoded:np.ndarray = tokenizer.texts_to_sequences(X_train)\n",
    "print(X_train_encoded[:5])"
   ]
  },
  {
   "cell_type": "code",
   "execution_count": 9,
   "metadata": {},
   "outputs": [
    {
     "name": "stdout",
     "output_type": "stream",
     "text": [
      "The number of unique words in the dataset is 210306\n",
      "The first 25 words in the dataset are [('the', 1), ('to', 2), ('of', 3), ('and', 4), ('a', 5), ('in', 6), ('you', 7), ('for', 8), ('is', 9), ('this', 10), ('i', 11), ('that', 12), ('on', 13), ('your', 14), ('be', 15), ('with', 16), ('it', 17), (\"'\", 18), ('are', 19), ('or', 20), ('as', 21), ('com', 22), ('from', 23), ('have', 24), ('will', 25)]\n"
     ]
    }
   ],
   "source": [
    "# Let's check which numbers correspond to which words\n",
    "word_index:dict = tokenizer.word_index\n",
    "print(f\"The number of unique words in the dataset is {len(word_index)}\")\n",
    "print(f\"The first 25 words in the dataset are {list(word_index.items())[:25]}\")\n",
    "\n",
    "# As we can see, the number is assigned to the word based on the frequency of the word.\n",
    "# The lower the number, the more frequent the word is in the dataset"
   ]
  },
  {
   "cell_type": "code",
   "execution_count": 10,
   "metadata": {},
   "outputs": [
    {
     "name": "stdout",
     "output_type": "stream",
     "text": [
      "The number of words in the dataset is 210306\n",
      "The number of words that are not so frequent in the dataset is 112526\n",
      "The proportion of the rare words(frequency < 2 in the entire dataset) in the dataset is 53.51%\n"
     ]
    }
   ],
   "source": [
    "# However, there are some words that are not so frequent, less than 2 times in the entire dataset for example.\n",
    "# Let's check how many words are there in the dataset that are not so frequent\n",
    "threshold:int = 2\n",
    "total_words_count:int = len(word_index)\n",
    "rare_words_count:int  = len([word for word, count in tokenizer.word_counts.items() if count < threshold])\n",
    "print(f\"The number of words in the dataset is {total_words_count}\")\n",
    "print(f\"The number of words that are not so frequent in the dataset is {rare_words_count}\")\n",
    "print(f\"The proportion of the rare words(frequency < {threshold} in the entire dataset) in the dataset is {rare_words_count / total_words_count * 100:.2f}%\")"
   ]
  },
  {
   "cell_type": "code",
   "execution_count": 11,
   "metadata": {},
   "outputs": [
    {
     "name": "stdout",
     "output_type": "stream",
     "text": [
      "The average length of the text data is 233.87\n",
      "The maximum length of the text data is 14957\n",
      "The shape of the padded training set is (30148, 14957)\n"
     ]
    }
   ],
   "source": [
    "# Simply measure the average length and maximum length of the text data\n",
    "average_length:float = np.mean([len(text.split()) for text in X_train])\n",
    "max_length:float = np.max([len(text.split()) for text in X_train])\n",
    "print(f\"The average length of the text data is {average_length:.2f}\")\n",
    "print(f\"The maximum length of the text data is {max_length}\")\n",
    "\n",
    "X_train_padded:np.ndarray = pad_sequences(X_train_encoded, maxlen = max_length)\n",
    "# pad_sequence() will pad the sequences to the maximum length of the text data\n",
    "print(f\"The shape of the padded training set is {X_train_padded.shape}\")"
   ]
  },
  {
   "cell_type": "code",
   "execution_count": 12,
   "metadata": {},
   "outputs": [
    {
     "name": "stdout",
     "output_type": "stream",
     "text": [
      "Num GPUs Available:  1\n"
     ]
    },
    {
     "name": "stderr",
     "output_type": "stream",
     "text": [
      "2024-04-13 18:01:43.386820: I tensorflow/compiler/xla/stream_executor/cuda/cuda_gpu_executor.cc:982] could not open file to read NUMA node: /sys/bus/pci/devices/0000:01:00.0/numa_node\n",
      "Your kernel may have been built without NUMA support.\n",
      "2024-04-13 18:01:43.387403: I tensorflow/compiler/xla/stream_executor/cuda/cuda_gpu_executor.cc:982] could not open file to read NUMA node: /sys/bus/pci/devices/0000:01:00.0/numa_node\n",
      "Your kernel may have been built without NUMA support.\n",
      "2024-04-13 18:01:43.387700: I tensorflow/compiler/xla/stream_executor/cuda/cuda_gpu_executor.cc:982] could not open file to read NUMA node: /sys/bus/pci/devices/0000:01:00.0/numa_node\n",
      "Your kernel may have been built without NUMA support.\n"
     ]
    }
   ],
   "source": [
    "import tensorflow as tf\n",
    "\n",
    "print(\"Num GPUs Available: \", len(tf.config.list_physical_devices('GPU')))\n"
   ]
  },
  {
   "cell_type": "code",
   "execution_count": 14,
   "metadata": {},
   "outputs": [
    {
     "name": "stderr",
     "output_type": "stream",
     "text": [
      "2024-04-13 18:05:23.633534: I tensorflow/core/common_runtime/executor.cc:1197] [/device:CPU:0] (DEBUG INFO) Executor start aborting (this does not indicate an error and you can ignore this message): INVALID_ARGUMENT: You must feed a value for placeholder tensor 'gradients/split_2_grad/concat/split_2/split_dim' with dtype int32\n",
      "\t [[{{node gradients/split_2_grad/concat/split_2/split_dim}}]]\n",
      "2024-04-13 18:05:23.634802: I tensorflow/core/common_runtime/executor.cc:1197] [/device:CPU:0] (DEBUG INFO) Executor start aborting (this does not indicate an error and you can ignore this message): INVALID_ARGUMENT: You must feed a value for placeholder tensor 'gradients/split_grad/concat/split/split_dim' with dtype int32\n",
      "\t [[{{node gradients/split_grad/concat/split/split_dim}}]]\n",
      "2024-04-13 18:05:23.635879: I tensorflow/core/common_runtime/executor.cc:1197] [/device:CPU:0] (DEBUG INFO) Executor start aborting (this does not indicate an error and you can ignore this message): INVALID_ARGUMENT: You must feed a value for placeholder tensor 'gradients/split_1_grad/concat/split_1/split_dim' with dtype int32\n",
      "\t [[{{node gradients/split_1_grad/concat/split_1/split_dim}}]]\n"
     ]
    },
    {
     "name": "stdout",
     "output_type": "stream",
     "text": [
      "Epoch 1/4\n"
     ]
    },
    {
     "name": "stderr",
     "output_type": "stream",
     "text": [
      "2024-04-13 18:05:24.742245: I tensorflow/core/common_runtime/executor.cc:1197] [/device:CPU:0] (DEBUG INFO) Executor start aborting (this does not indicate an error and you can ignore this message): INVALID_ARGUMENT: You must feed a value for placeholder tensor 'gradients/split_2_grad/concat/split_2/split_dim' with dtype int32\n",
      "\t [[{{node gradients/split_2_grad/concat/split_2/split_dim}}]]\n",
      "2024-04-13 18:05:24.743687: I tensorflow/core/common_runtime/executor.cc:1197] [/device:CPU:0] (DEBUG INFO) Executor start aborting (this does not indicate an error and you can ignore this message): INVALID_ARGUMENT: You must feed a value for placeholder tensor 'gradients/split_grad/concat/split/split_dim' with dtype int32\n",
      "\t [[{{node gradients/split_grad/concat/split/split_dim}}]]\n",
      "2024-04-13 18:05:24.744603: I tensorflow/core/common_runtime/executor.cc:1197] [/device:CPU:0] (DEBUG INFO) Executor start aborting (this does not indicate an error and you can ignore this message): INVALID_ARGUMENT: You must feed a value for placeholder tensor 'gradients/split_1_grad/concat/split_1/split_dim' with dtype int32\n",
      "\t [[{{node gradients/split_1_grad/concat/split_1/split_dim}}]]\n",
      "2024-04-13 18:05:25.146391: I tensorflow/core/common_runtime/executor.cc:1197] [/device:CPU:0] (DEBUG INFO) Executor start aborting (this does not indicate an error and you can ignore this message): INVALID_ARGUMENT: You must feed a value for placeholder tensor 'gradients/split_2_grad/concat/split_2/split_dim' with dtype int32\n",
      "\t [[{{node gradients/split_2_grad/concat/split_2/split_dim}}]]\n",
      "2024-04-13 18:05:25.147805: I tensorflow/core/common_runtime/executor.cc:1197] [/device:CPU:0] (DEBUG INFO) Executor start aborting (this does not indicate an error and you can ignore this message): INVALID_ARGUMENT: You must feed a value for placeholder tensor 'gradients/split_grad/concat/split/split_dim' with dtype int32\n",
      "\t [[{{node gradients/split_grad/concat/split/split_dim}}]]\n",
      "2024-04-13 18:05:25.148762: I tensorflow/core/common_runtime/executor.cc:1197] [/device:CPU:0] (DEBUG INFO) Executor start aborting (this does not indicate an error and you can ignore this message): INVALID_ARGUMENT: You must feed a value for placeholder tensor 'gradients/split_1_grad/concat/split_1/split_dim' with dtype int32\n",
      "\t [[{{node gradients/split_1_grad/concat/split_1/split_dim}}]]\n"
     ]
    },
    {
     "name": "stdout",
     "output_type": "stream",
     "text": [
      "377/377 [==============================] - ETA: 0s - loss: 0.2950 - accuracy: 0.8744"
     ]
    },
    {
     "name": "stderr",
     "output_type": "stream",
     "text": [
      "2024-04-13 18:09:10.336177: I tensorflow/core/common_runtime/executor.cc:1197] [/device:CPU:0] (DEBUG INFO) Executor start aborting (this does not indicate an error and you can ignore this message): INVALID_ARGUMENT: You must feed a value for placeholder tensor 'gradients/split_2_grad/concat/split_2/split_dim' with dtype int32\n",
      "\t [[{{node gradients/split_2_grad/concat/split_2/split_dim}}]]\n",
      "2024-04-13 18:09:10.337739: I tensorflow/core/common_runtime/executor.cc:1197] [/device:CPU:0] (DEBUG INFO) Executor start aborting (this does not indicate an error and you can ignore this message): INVALID_ARGUMENT: You must feed a value for placeholder tensor 'gradients/split_grad/concat/split/split_dim' with dtype int32\n",
      "\t [[{{node gradients/split_grad/concat/split/split_dim}}]]\n",
      "2024-04-13 18:09:10.338658: I tensorflow/core/common_runtime/executor.cc:1197] [/device:CPU:0] (DEBUG INFO) Executor start aborting (this does not indicate an error and you can ignore this message): INVALID_ARGUMENT: You must feed a value for placeholder tensor 'gradients/split_1_grad/concat/split_1/split_dim' with dtype int32\n",
      "\t [[{{node gradients/split_1_grad/concat/split_1/split_dim}}]]\n"
     ]
    },
    {
     "name": "stdout",
     "output_type": "stream",
     "text": [
      "377/377 [==============================] - 250s 661ms/step - loss: 0.2950 - accuracy: 0.8744 - val_loss: 0.1346 - val_accuracy: 0.9517\n",
      "Epoch 2/4\n",
      "377/377 [==============================] - 243s 644ms/step - loss: 0.1105 - accuracy: 0.9657 - val_loss: 0.1078 - val_accuracy: 0.9609\n",
      "Epoch 3/4\n",
      "377/377 [==============================] - 238s 631ms/step - loss: 0.0713 - accuracy: 0.9779 - val_loss: 0.1008 - val_accuracy: 0.9625\n",
      "Epoch 4/4\n",
      "377/377 [==============================] - 239s 635ms/step - loss: 0.0500 - accuracy: 0.9828 - val_loss: 0.1137 - val_accuracy: 0.9612\n"
     ]
    }
   ],
   "source": [
    "from tensorflow.keras.layers import LSTM, Embedding, Dense\n",
    "from tensorflow.keras.models import Sequential\n",
    "\n",
    "embedding_dimension = 32        # The dimension of the embedding layer\n",
    "hidden_units = 32               # The number of hidden units in the LSTM layer\n",
    "\n",
    "model = Sequential()\n",
    "model.add(Embedding(input_dim=total_words_count + 1, output_dim=embedding_dimension, input_length=max_length))\n",
    "model.add(LSTM(units=hidden_units))\n",
    "model.add(Dense(units=1, activation=\"sigmoid\"))  # Using sigmoid for binary classification\n",
    "\n",
    "model.compile(optimizer=\"rmsprop\", loss=\"binary_crossentropy\", metrics=[\"accuracy\"])\n",
    "history = model.fit(X_train_padded, y_train, epochs=4, batch_size=64, validation_split=0.2)\n"
   ]
  },
  {
   "cell_type": "code",
   "execution_count": 15,
   "metadata": {},
   "outputs": [
    {
     "name": "stdout",
     "output_type": "stream",
     "text": [
      "236/236 [==============================] - 59s 250ms/step - loss: 0.1108 - accuracy: 0.9621\n",
      "The loss of the model is 0.1108\n",
      "The accuracy of the model is 0.9621\n"
     ]
    }
   ],
   "source": [
    "# Now, conduct the test\n",
    "X_test_encoded = tokenizer.texts_to_sequences(X_test)\n",
    "X_test_padded = pad_sequences(X_test_encoded, maxlen=max_length)\n",
    "\n",
    "loss, accuracy = model.evaluate(X_test_padded, y_test)\n",
    "print(f\"The loss of the model is {loss:.4f}\")\n",
    "print(f\"The accuracy of the model is {accuracy:.4f}\")"
   ]
  },
  {
   "cell_type": "code",
   "execution_count": 16,
   "metadata": {},
   "outputs": [
    {
     "data": {
      "image/png": "[encoded data removed]",
      "text/plain": [
       "<Figure size 640x480 with 1 Axes>"
      ]
     },
     "metadata": {},
     "output_type": "display_data"
    }
   ],
   "source": [
    "# Draw the training and validation loss\n",
    "plt.plot(history.history[\"loss\"], label=\"Training Loss\")\n",
    "plt.plot(history.history[\"val_loss\"], label=\"Validation Loss\")\n",
    "plt.xlabel(\"Epochs\")\n",
    "plt.ylabel(\"Loss\")\n",
    "plt.legend()\n",
    "plt.show()"
   ]
  },
  {
   "cell_type": "code",
   "execution_count": null,
   "metadata": {},
   "outputs": [],
   "source": [
    "# Save the model\n",
    "# filename: \"spameyes_model_lstm_{current_timestamp}.h5\"\n",
    "\n",
    "import datetime\n",
    "current_timestamp = datetime.datetime.now().strftime(\"%Y%m%d\")\n",
    "model.save(f\"spameyes_model_lstm_{current_timestamp}.h5\")"
   ]
  },
  {
   "cell_type": "code",
   "execution_count": null,
   "metadata": {},
   "outputs": [],
   "source": []
  }
 ],
 "metadata": {
  "kernelspec": {
   "display_name": "Python 3",
   "language": "python",
   "name": "python3"
  },
  "language_info": {
   "codemirror_mode": {
    "name": "ipython",
    "version": 3
   },
   "file_extension": ".py",
   "mimetype": "text/x-python",
   "name": "python",
   "nbconvert_exporter": "python",
   "pygments_lexer": "ipython3",
   "version": "3.10.14"
  }
 },
 "nbformat": 4,
 "nbformat_minor": 2
}
